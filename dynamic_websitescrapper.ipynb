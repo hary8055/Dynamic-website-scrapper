{
 "cells": [
  {
   "cell_type": "code",
   "execution_count": 8,
   "id": "aabb3a16-f5c0-4122-8865-82f75d4d93ae",
   "metadata": {},
   "outputs": [],
   "source": [
    "#libraries\n",
    "from selenium import webdriver\n",
    "from selenium.webdriver.chrome.service import Service\n",
    "from webdriver_manager.chrome import ChromeDriverManager\n",
    "from selenium.webdriver.common.by import By\n",
    "from selenium.webdriver.support.ui import WebDriverWait\n",
    "from selenium.webdriver.support import expected_conditions as EC\n",
    "from selenium.webdriver.common.keys import Keys\n",
    "from selenium.common.exceptions import NoSuchElementException, TimeoutException\n",
    "from bs4 import BeautifulSoup\n",
    "import pandas as pd\n",
    "import time\n",
    "import csv"
   ]
  },
  {
   "cell_type": "code",
   "execution_count": 2,
   "id": "a7d0505d-55f8-4fae-b921-232f8bf94153",
   "metadata": {},
   "outputs": [],
   "source": [
    "service = Service(\"/Users/harikrishnans/Downloads/chromedriver-mac-arm64/chromedriver\")"
   ]
  },
  {
   "cell_type": "code",
   "execution_count": 3,
   "id": "5488deb0-4be6-44e9-8fe7-ec88d5dc88df",
   "metadata": {},
   "outputs": [],
   "source": [
    "driver = webdriver.Chrome(service=service)"
   ]
  },
  {
   "cell_type": "code",
   "execution_count": 4,
   "id": "de0907ec-0ca4-419c-b12c-4e1403341dad",
   "metadata": {},
   "outputs": [],
   "source": [
    "scraped_data = []"
   ]
  },
  {
   "cell_type": "code",
   "execution_count": 5,
   "id": "cf0e50a2-4be1-4f94-b4b8-e9c38a97b28e",
   "metadata": {},
   "outputs": [],
   "source": [
    "def scrape_page():\n",
    "    results = driver.find_elements(By.CLASS_NAME, \"product-base\")\n",
    "    \n",
    "    for result in results:\n",
    "        try:\n",
    "            # Extract the brand name\n",
    "            brand = result.find_element(By.CLASS_NAME, \"product-brand\").text\n",
    "            \n",
    "            # Extract the product title \n",
    "            title = result.find_element(By.CLASS_NAME, \"product-product\").text\n",
    "            \n",
    "            # Extract the price\n",
    "            price = result.find_element(By.CLASS_NAME, \"product-price\").text\n",
    "            \n",
    "            scraped_data.append([brand, title, price])\n",
    "        \n",
    "        except NoSuchElementException as e:\n",
    "            print(f\"Error extracting data for a result: {e}\")\n"
   ]
  },
  {
   "cell_type": "code",
   "execution_count": 6,
   "id": "731cccfa-edba-461b-94f1-8757b40c3e60",
   "metadata": {},
   "outputs": [],
   "source": [
    "try:\n",
    "    driver.get(\"https://www.myntra.com/tshirt?rawQuery=tshirt\")\n",
    "    WebDriverWait(driver, 20).until(\n",
    "        EC.presence_of_element_located((By.CLASS_NAME, \"product-base\"))\n",
    "    )\n",
    "    scrape_page()\n",
    "\n",
    "except TimeoutException:\n",
    "    print(\"Search results did not load in time\")\n",
    "\n",
    "finally:\n",
    "    # Close the browser after scraping\n",
    "    driver.quit()"
   ]
  },
  {
   "cell_type": "code",
   "execution_count": 7,
   "id": "a3114993-e3ef-4e99-afef-16eaae3f910c",
   "metadata": {},
   "outputs": [
    {
     "name": "stdout",
     "output_type": "stream",
     "text": [
      "Scraped data has been saved to 'scraped_data.csv'.\n"
     ]
    }
   ],
   "source": [
    "with open('/Users/harikrishnans/Downloads/scraped_data.csv', mode='w', newline='', encoding='utf-8') as file:\n",
    "    writer = csv.writer(file)\n",
    "    writer.writerow(['Brand', 'Product', 'Price'])\n",
    "    writer.writerows(scraped_data)\n",
    "    print(f\"Scraped data has been saved to 'scraped_data.csv'.\")"
   ]
  },
  {
   "cell_type": "code",
   "execution_count": null,
   "id": "22a90bcb-061c-4bd6-b043-f61ec36cb3e4",
   "metadata": {},
   "outputs": [],
   "source": []
  }
 ],
 "metadata": {
  "kernelspec": {
   "display_name": "Python 3 (ipykernel)",
   "language": "python",
   "name": "python3"
  },
  "language_info": {
   "codemirror_mode": {
    "name": "ipython",
    "version": 3
   },
   "file_extension": ".py",
   "mimetype": "text/x-python",
   "name": "python",
   "nbconvert_exporter": "python",
   "pygments_lexer": "ipython3",
   "version": "3.12.2"
  }
 },
 "nbformat": 4,
 "nbformat_minor": 5
}
